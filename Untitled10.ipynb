{
 "cells": [
  {
   "cell_type": "code",
   "execution_count": null,
   "metadata": {},
   "outputs": [],
   "source": []
  },
  {
   "cell_type": "code",
   "execution_count": 113,
   "metadata": {},
   "outputs": [],
   "source": [
    "from fim import eclat\n",
    "import pandas as pd\n",
    "\n",
    "\n",
    "data = pd.read_excel (r'D:\\Accidents.xlsx') \n",
    "\n",
    "df = pd.DataFrame(data, columns= [\"Date d'accident DAT_ACC\",\"Heure d'accident HEU_ACC\",\"Decoupage Geographique COD_PRV\",\"Etat chaussée COD_ETA_CHA\",\"Etat surface COD_ETA_SUR\",\"Lumière COD_LUM\",\"Lumière COD_LUM\",\"Code Agglomeration COD_AGG\",\"Localisation LOC\",\"Type carrefours COD_TYP_CAR_AGG\",\"Profils en long COD_PRO_LON\",\"Type collision COD_TYP_COL\",\"Obstacle heurtés COD_OBS_HRT\",\"Point de choc initial COD_POI_CHO\",\"manœuvre COD_MAN\"])\n",
    "\n",
    "##transformation de la dataframe en liste\n",
    "freq_itemsets = df.values.tolist()\n",
    "\n",
    "##Application de l'algorithme eclat\n",
    "res= eclat(freq_itemsets, supp=10, zmin=10)\n",
    "\n",
    "##transformer la liste en dataframe\n",
    "\n",
    "to_df = pd.DataFrame(res, columns = [\"Frequent Items\" , \"Support\"])\n",
    "\n",
    "\n",
    "\n",
    "##affichage du support sous forme de pourcentage\n",
    " \n",
    "for index, row in to_df.iterrows():\n",
    "    \n",
    "   print (row['Frequent Items'],\"\\t\\t\", '%.2f' % (row['Support']/len(df)*100),\"%\")\n",
    "\n",
    "\n",
    "\n",
    "    \n",
    " \n",
    "\n"
   ]
  },
  {
   "cell_type": "code",
   "execution_count": null,
   "metadata": {},
   "outputs": [],
   "source": []
  },
  {
   "cell_type": "code",
   "execution_count": null,
   "metadata": {},
   "outputs": [],
   "source": []
  }
 ],
 "metadata": {
  "kernelspec": {
   "display_name": "Python 3",
   "language": "python",
   "name": "python3"
  },
  "language_info": {
   "codemirror_mode": {
    "name": "ipython",
    "version": 3
   },
   "file_extension": ".py",
   "mimetype": "text/x-python",
   "name": "python",
   "nbconvert_exporter": "python",
   "pygments_lexer": "ipython3",
   "version": "3.8.5"
  }
 },
 "nbformat": 4,
 "nbformat_minor": 4
}
